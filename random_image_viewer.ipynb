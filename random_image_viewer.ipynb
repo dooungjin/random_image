{
 "cells": [
  {
   "cell_type": "code",
   "execution_count": null,
   "id": "92be4750",
   "metadata": {},
   "outputs": [],
   "source": [
    "import os\n",
    "import random\n",
    "from PIL import Image\n",
    "import keyboard"
   ]
  },
  {
   "cell_type": "code",
   "execution_count": null,
   "id": "75edf08b",
   "metadata": {},
   "outputs": [],
   "source": [
    "# Path to your folder containing image files\n",
    "image_folder = \"./imgs\"\n",
    "\n",
    "# List all image files in the folder\n",
    "image_files = [file for file in os.listdir(image_folder) if file.lower().endswith(('.png', '.jpg', '.jpeg', '.gif', '.bmp'))]\n",
    "\n",
    "# Shuffle the image files\n",
    "image_to_skip = set()\n",
    "no_skip_imgs = len(image_files) - len(image_to_skip)\n",
    "round_num = 1"
   ]
  },
  {
   "cell_type": "code",
   "execution_count": null,
   "id": "90a5c6dd",
   "metadata": {},
   "outputs": [],
   "source": [
    "while no_skip_imgs > 0:\n",
    "    random.shuffle(image_files)\n",
    "    print(\"Round number:\", round_num)\n",
    "    print(\"Number of images:\", no_skip_imgs)\n",
    "\n",
    "    img_num = 1\n",
    "    for image_file in image_files:\n",
    "        image_path = os.path.join(image_folder, image_file)\n",
    "        \n",
    "        if image_path in image_to_skip:\n",
    "            continue\n",
    "        \n",
    "        image = Image.open(image_path)\n",
    "        image.show()\n",
    "        \n",
    "        user_input = input(f\"Image {img_num}/{no_skip_imgs}. Press 1 to skip, any key to continue: \")\n",
    "        img_num += 1\n",
    "\n",
    "        if user_input == \"1\":\n",
    "            image_to_skip.add(image_path)\n",
    "\n",
    "    no_skip_imgs = len(image_files) - len(image_to_skip)\n",
    "    round_num += 1"
   ]
  },
  {
   "cell_type": "code",
   "execution_count": null,
   "id": "3541bbf5",
   "metadata": {},
   "outputs": [],
   "source": []
  }
 ],
 "metadata": {
  "kernelspec": {
   "display_name": "Python 3 (ipykernel)",
   "language": "python",
   "name": "python3"
  },
  "language_info": {
   "codemirror_mode": {
    "name": "ipython",
    "version": 3
   },
   "file_extension": ".py",
   "mimetype": "text/x-python",
   "name": "python",
   "nbconvert_exporter": "python",
   "pygments_lexer": "ipython3",
   "version": "3.8.17"
  }
 },
 "nbformat": 4,
 "nbformat_minor": 5
}
